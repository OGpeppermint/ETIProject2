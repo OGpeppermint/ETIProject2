{
  "nbformat": 4,
  "nbformat_minor": 0,
  "metadata": {
    "colab": {
      "name": "Backend.ipynb",
      "provenance": [],
      "collapsed_sections": []
    },
    "kernelspec": {
      "name": "python3",
      "display_name": "Python 3"
    },
    "language_info": {
      "name": "python"
    }
  },
  "cells": [
    {
      "cell_type": "markdown",
      "source": [
        "#Project Code\n",
        "##Group 9\n",
        "###Nicolas Maitin"
      ],
      "metadata": {
        "id": "Xb-lg_o-G6wV"
      }
    },
    {
      "cell_type": "code",
      "execution_count": null,
      "metadata": {
        "id": "pohNqCJ5EEzD"
      },
      "outputs": [],
      "source": [
        "%%capture\n",
        "\n",
        "!pip install ipython-sql\n",
        "!pip install databases\n",
        "!pip install databases[sqlite]"
      ]
    },
    {
      "cell_type": "code",
      "source": [
        "import sqlalchemy\n",
        "%load_ext sql\n",
        "%sql sqlite:///projectdb.db"
      ],
      "metadata": {
        "colab": {
          "base_uri": "https://localhost:8080/",
          "height": 35
        },
        "id": "xuCOpUW-EIFk",
        "outputId": "1faf4f6f-a74f-486e-c2a8-ea31f50f01e4"
      },
      "execution_count": null,
      "outputs": [
        {
          "output_type": "execute_result",
          "data": {
            "text/plain": [
              "'Connected: @projectdb.db'"
            ],
            "application/vnd.google.colaboratory.intrinsic+json": {
              "type": "string"
            }
          },
          "metadata": {},
          "execution_count": 2
        }
      ]
    },
    {
      "cell_type": "code",
      "source": [
        "%%sql\n",
        "\n",
        "  DROP TABLE IF EXISTS [User];\n",
        "  CREATE TABLE [User] (\n",
        "    [ID] INTEGER PRIMARY KEY,\n",
        "    [firstName] nvarchar(250) NOT NULL,\n",
        "    [lastName] nvarchar(250) NOT NULL,\n",
        "    [email] nvarchar(250) NOT NULL,\n",
        "    [password] nvarchar(250) NOT NULL,\n",
        "    [birthdate] DATE NOT NULL\n",
        "  );\n",
        "  \n",
        "  DROP TABLE IF EXISTS [Genre];\n",
        "  CREATE TABLE [Genre] (\n",
        "    [ID] INTEGER PRIMARY KEY,\n",
        "    [genre] nvarchar(250) NOT NULL\n",
        "  );\n",
        "\n",
        "  DROP TABLE IF EXISTS [Tv_Series];\n",
        "  CREATE TABLE [TV_Series] (\n",
        "    [ID] INTEGER PRIMARY KEY,\n",
        "    [title] nvarchar(250) NOT NULL,\n",
        "    [numOfSeasons] int NOT NULL,\n",
        "    [genreID] int NOT NULL,\n",
        "    FOREIGN KEY ([genreID]) REFERENCES [Genre]([ID]) ON DELETE SET NULL\n",
        "  );\n",
        "\n",
        "  DROP TABLE IF EXISTS [Tv_Season];\n",
        "  CREATE TABLE [Tv_Season] (\n",
        "    [ID] INTEGER PRIMARY KEY,\n",
        "    [tvID] int NOT NULL,\n",
        "    [seasonNum] int NOT NULL,\n",
        "    [numOfEpisodes] int NOT NULL,\n",
        "    FOREIGN KEY ([tvID]) REFERENCES [Tv_Series]([ID]) ON DELETE SET NULL\n",
        "  );\n",
        "\n",
        "  DROP TABLE IF EXISTS [Tv_Episode];\n",
        "  CREATE TABLE [Tv_Episode] (\n",
        "    [ID] INTEGER PRIMARY KEY,\n",
        "    [tvID] int NOT NULL,\n",
        "    [seasonID] int NOT NULL,\n",
        "    [episodeNum] int NOT NULL,\n",
        "    [title] nvarchar(250) NOT NULL,\n",
        "    [runtime] float NOT NULL,\n",
        "    [airDate] DATE NOT NULL,\n",
        "    FOREIGN KEY ([tvID]) REFERENCES [Tv_Series]([ID]) ON DELETE SET NULL,\n",
        "    FOREIGN KEY ([seasonID]) REFERENCES [Tv_Season]([ID]) ON DELETE SET NULL\n",
        "  );  \n",
        "\n",
        "  DROP TABLE IF EXISTS [Movie];\n",
        "  CREATE TABLE [Movie] (\n",
        "    [ID] INTEGER PRIMARY KEY,\n",
        "    [title] nvarchar(250) NOT NULL,\n",
        "    [runtime] float NOT NULL,\n",
        "    [releaseDate] DATE NOT NULL,\n",
        "    [genreID] INT NOT NULL,\n",
        "    FOREIGN KEY ([genreID]) REFERENCES [GENRE]([ID]) ON DELETE SET NULL\n",
        "  );\n",
        "\n",
        "  DROP TABLE IF EXISTS [Profile];\n",
        "  CREATE TABLE [Profile] (\n",
        "    [ID] INTEGER PRIMARY KEY,\n",
        "    [userID] int NOT NULL,\n",
        "    [name] nvarchar(250) NOT NULL,\n",
        "    FOREIGN KEY ([userID]) REFERENCES [User]([ID]) ON DELETE SET NULL\n",
        "  );\n",
        "\n",
        "  DROP TABLE IF EXISTS [Payment_Info];\n",
        "  CREATE TABLE [Payment_Info] (\n",
        "    [ID] INTEGER PRIMARY KEY,\n",
        "    [userID] int NOT NULL,\n",
        "    [nameOnCard] nvarchar(250) NOT NULL,\n",
        "    [cardNum] nvarchar(250) NOT NULL,\n",
        "    [expiration] DATE NOT NULL,\n",
        "    [csv] nvarchar(3) NOT NULL,\n",
        "    FOREIGN KEY ([userID]) REFERENCES [User]([ID]) ON DELETE SET NULL\n",
        "  );\n",
        "\n",
        "  DROP TABLE IF EXISTS [My_Stuff];\n",
        "  CREATE TABLE [My_Stuff] (\n",
        "    [myStuffID] INTEGER PRIMARY KEY,\n",
        "    [profileID] int NOT NULL,\n",
        "    [tvShowID] int,\n",
        "    [episodeID] int,\n",
        "    [movieID] int,\n",
        "    FOREIGN KEY ([profileID]) REFERENCES [Profile]([ID]) ON DELETE SET NULL,\n",
        "    FOREIGN KEY ([tvShowID]) REFERENCES [Tv_Series]([ID]) ON DELETE SET NULL,\n",
        "    FOREIGN KEY ([episodeID]) REFERENCES [Tv_Episode]([ID]) ON DELETE SET NULL,\n",
        "    FOREIGN KEY ([movieID]) REFERENCES [Movie]([ID]) ON DELETE SET NULL\n",
        "  );"
      ],
      "metadata": {
        "colab": {
          "base_uri": "https://localhost:8080/"
        },
        "id": "caHEV0YtEJh0",
        "outputId": "661a8c8a-74a5-47b0-8597-c4227b4f1bea"
      },
      "execution_count": null,
      "outputs": [
        {
          "output_type": "stream",
          "name": "stdout",
          "text": [
            " * sqlite:///projectdb.db\n",
            "Done.\n",
            "Done.\n",
            "Done.\n",
            "Done.\n",
            "Done.\n",
            "Done.\n",
            "Done.\n",
            "Done.\n",
            "Done.\n",
            "Done.\n",
            "Done.\n",
            "Done.\n",
            "Done.\n",
            "Done.\n",
            "Done.\n",
            "Done.\n",
            "Done.\n",
            "Done.\n"
          ]
        },
        {
          "output_type": "execute_result",
          "data": {
            "text/plain": [
              "[]"
            ]
          },
          "metadata": {},
          "execution_count": 4
        }
      ]
    },
    {
      "cell_type": "code",
      "source": [
        "%%sql\n",
        "\n",
        "PRAGMA foreign_keys = ON;"
      ],
      "metadata": {
        "colab": {
          "base_uri": "https://localhost:8080/"
        },
        "id": "EgaFEZJxESdb",
        "outputId": "769ca253-122f-4aad-8f72-cb585e26a918"
      },
      "execution_count": null,
      "outputs": [
        {
          "output_type": "stream",
          "name": "stdout",
          "text": [
            " * sqlite:///projectdb.db\n",
            "Done.\n"
          ]
        },
        {
          "output_type": "execute_result",
          "data": {
            "text/plain": [
              "[]"
            ]
          },
          "metadata": {},
          "execution_count": 5
        }
      ]
    },
    {
      "cell_type": "code",
      "source": [
        "%%sql\n",
        "\n",
        "PRAGMA foreign_keys;"
      ],
      "metadata": {
        "colab": {
          "base_uri": "https://localhost:8080/",
          "height": 96
        },
        "id": "XABM1kobEU3U",
        "outputId": "56a3bbe2-597a-4375-ee39-397cd3a1a6e4"
      },
      "execution_count": null,
      "outputs": [
        {
          "output_type": "stream",
          "name": "stdout",
          "text": [
            " * sqlite:///projectdb.db\n",
            "Done.\n"
          ]
        },
        {
          "output_type": "execute_result",
          "data": {
            "text/plain": [
              "[(1,)]"
            ],
            "text/html": [
              "<table>\n",
              "    <thead>\n",
              "        <tr>\n",
              "            <th>foreign_keys</th>\n",
              "        </tr>\n",
              "    </thead>\n",
              "    <tbody>\n",
              "        <tr>\n",
              "            <td>1</td>\n",
              "        </tr>\n",
              "    </tbody>\n",
              "</table>"
            ]
          },
          "metadata": {},
          "execution_count": 6
        }
      ]
    },
    {
      "cell_type": "code",
      "source": [
        "%%sql\n",
        "\n",
        "INSERT INTO User([firstName], [lastName], [email], [password], [birthdate]) VALUES ('Nicolas', 'Maitin', 'nicolasmaitinNM@gmail.com', 'h3lp3r2', '1995-07-25');\n",
        "INSERT INTO User([firstName], [lastName], [email], [password], [birthdate]) VALUES ('James', 'Adams', 'jamesa@gmail.com', 'cr00k3d', '1972-10-14');\n",
        "INSERT INTO User([firstName], [lastName], [email], [password], [birthdate]) VALUES ('Boubou', 'Magassa', 'bmagassa@gmail.com', 'm3rst1l', '2000-02-08');"
      ],
      "metadata": {
        "colab": {
          "base_uri": "https://localhost:8080/"
        },
        "id": "E5V--HnzEW0h",
        "outputId": "f9390008-458e-4a34-94dc-04391465cfa3"
      },
      "execution_count": null,
      "outputs": [
        {
          "output_type": "stream",
          "name": "stdout",
          "text": [
            " * sqlite:///projectdb.db\n",
            "1 rows affected.\n",
            "1 rows affected.\n",
            "1 rows affected.\n"
          ]
        },
        {
          "output_type": "execute_result",
          "data": {
            "text/plain": [
              "[]"
            ]
          },
          "metadata": {},
          "execution_count": 7
        }
      ]
    },
    {
      "cell_type": "code",
      "source": [
        "%%sql\n",
        "\n",
        "INSERT INTO Genre([genre]) VALUES ('Drama');\n",
        "INSERT INTO Genre([genre]) VALUES ('Action');\n",
        "INSERT INTO Genre([genre]) VALUES ('Comedy');"
      ],
      "metadata": {
        "colab": {
          "base_uri": "https://localhost:8080/"
        },
        "id": "-VfMZQWwEX5y",
        "outputId": "d21f8a36-37bd-4b9c-efe3-b2e07b07f840"
      },
      "execution_count": null,
      "outputs": [
        {
          "output_type": "stream",
          "name": "stdout",
          "text": [
            " * sqlite:///projectdb.db\n",
            "1 rows affected.\n",
            "1 rows affected.\n",
            "1 rows affected.\n"
          ]
        },
        {
          "output_type": "execute_result",
          "data": {
            "text/plain": [
              "[]"
            ]
          },
          "metadata": {},
          "execution_count": 8
        }
      ]
    },
    {
      "cell_type": "code",
      "source": [
        "%%sql\n",
        "\n",
        "INSERT INTO Tv_Series([title], [numOfSeasons], [genreID]) VALUES ('30 Rock', 7, 3);\n",
        "INSERT INTO Tv_Series([title], [numOfSeasons], [genreID]) VALUES ('24', 8, 2);\n",
        "INSERT INTO Tv_Series([title], [numOfSeasons], [genreID]) VALUES ('Snowfall', 5, 1);"
      ],
      "metadata": {
        "colab": {
          "base_uri": "https://localhost:8080/"
        },
        "id": "eJxp_fPBEYaQ",
        "outputId": "bb00d8a2-902d-4c96-e01e-c1a9e8ddd986"
      },
      "execution_count": null,
      "outputs": [
        {
          "output_type": "stream",
          "name": "stdout",
          "text": [
            " * sqlite:///projectdb.db\n",
            "1 rows affected.\n",
            "1 rows affected.\n",
            "1 rows affected.\n"
          ]
        },
        {
          "output_type": "execute_result",
          "data": {
            "text/plain": [
              "[]"
            ]
          },
          "metadata": {},
          "execution_count": 9
        }
      ]
    },
    {
      "cell_type": "code",
      "source": [
        "%%sql\n",
        "\n",
        "INSERT INTO Tv_Season([tvID], [seasonNum], [numOfEpisodes]) VALUES (1, 4, 22);\n",
        "INSERT INTO Tv_Season([tvID], [seasonNum], [numOfEpisodes]) VALUES (2, 5, 24);\n",
        "INSERT INTO Tv_Season([tvID], [seasonNum], [numOfEpisodes]) VALUES (3, 2, 10);"
      ],
      "metadata": {
        "colab": {
          "base_uri": "https://localhost:8080/"
        },
        "id": "d7H_3xTwEa3g",
        "outputId": "6566cced-e511-4089-ab90-3abb71cf81bb"
      },
      "execution_count": null,
      "outputs": [
        {
          "output_type": "stream",
          "name": "stdout",
          "text": [
            " * sqlite:///projectdb.db\n",
            "1 rows affected.\n",
            "1 rows affected.\n",
            "1 rows affected.\n"
          ]
        },
        {
          "output_type": "execute_result",
          "data": {
            "text/plain": [
              "[]"
            ]
          },
          "metadata": {},
          "execution_count": 10
        }
      ]
    },
    {
      "cell_type": "code",
      "source": [
        "%%sql\n",
        "\n",
        "INSERT INTO Tv_Episode([tvID], [seasonID], [episodeNum], [title], [runtime], [airDate]) VALUES (1, 1, 5, 'Jack the Writer', 22.56, '2012-03-15');\n",
        "INSERT INTO Tv_Episode([tvID], [seasonID], [episodeNum], [title], [runtime], [airDate]) VALUES (2, 2, 9, '9:00am-10:00am', 49.20, '2006-3-25');\n",
        "INSERT INTO Tv_Episode([tvID], [seasonID], [episodeNum], [title], [runtime], [airDate]) VALUES (3, 3, 10, 'Celebration', 56.32, '2020-10-03');"
      ],
      "metadata": {
        "colab": {
          "base_uri": "https://localhost:8080/"
        },
        "id": "_VRuykluEc-1",
        "outputId": "1728205d-a046-4d1a-bdeb-e5809c03e46f"
      },
      "execution_count": null,
      "outputs": [
        {
          "output_type": "stream",
          "name": "stdout",
          "text": [
            " * sqlite:///projectdb.db\n",
            "1 rows affected.\n",
            "1 rows affected.\n",
            "1 rows affected.\n"
          ]
        },
        {
          "output_type": "execute_result",
          "data": {
            "text/plain": [
              "[]"
            ]
          },
          "metadata": {},
          "execution_count": 11
        }
      ]
    },
    {
      "cell_type": "code",
      "source": [
        "%%sql\n",
        "\n",
        "INSERT INTO Movie([title], [runtime], [releaseDate], [genreID]) VALUES ('The One', 87, '2001-11-02', 2);\n",
        "INSERT INTO Movie([title], [runtime], [releaseDate], [genreID]) VALUES ('Parasite', 132, '2019-05-21', 1);\n",
        "INSERT INTO Movie([title], [runtime], [releaseDate], [genreID]) VALUES ('The 40 Year Old Virgin', 116, '2005-8-19', 3);"
      ],
      "metadata": {
        "colab": {
          "base_uri": "https://localhost:8080/"
        },
        "id": "Ka9pvHauEeOj",
        "outputId": "208abd9c-3ccc-4370-a38d-d4250d3e12c0"
      },
      "execution_count": null,
      "outputs": [
        {
          "output_type": "stream",
          "name": "stdout",
          "text": [
            " * sqlite:///projectdb.db\n",
            "1 rows affected.\n",
            "1 rows affected.\n",
            "1 rows affected.\n"
          ]
        },
        {
          "output_type": "execute_result",
          "data": {
            "text/plain": [
              "[]"
            ]
          },
          "metadata": {},
          "execution_count": 12
        }
      ]
    },
    {
      "cell_type": "code",
      "source": [
        "%%sql\n",
        "\n",
        "INSERT INTO Profile([userId], [name]) VALUES (1, 'Nic');\n",
        "INSERT INTO Profile([userId], [name]) VALUES (2, 'James');\n",
        "INSERT INTO Profile([userId], [name]) VALUES (3, 'Bou');"
      ],
      "metadata": {
        "colab": {
          "base_uri": "https://localhost:8080/"
        },
        "id": "0XpgNl4bEfmF",
        "outputId": "1fef602c-2bd1-4377-e7a5-8a0fb86a6914"
      },
      "execution_count": null,
      "outputs": [
        {
          "output_type": "stream",
          "name": "stdout",
          "text": [
            " * sqlite:///projectdb.db\n",
            "1 rows affected.\n",
            "1 rows affected.\n",
            "1 rows affected.\n"
          ]
        },
        {
          "output_type": "execute_result",
          "data": {
            "text/plain": [
              "[]"
            ]
          },
          "metadata": {},
          "execution_count": 13
        }
      ]
    },
    {
      "cell_type": "code",
      "source": [
        "%%sql\n",
        "\n",
        "INSERT INTO My_Stuff([profileID], [tvshowID]) VALUES (1, 1);\n",
        "INSERT INTO My_Stuff([profileID], [episodeID]) VALUES (2, 3);\n",
        "INSERT INTO My_Stuff([profileID], [movieID]) VALUES (3, 2);"
      ],
      "metadata": {
        "colab": {
          "base_uri": "https://localhost:8080/"
        },
        "id": "XEQxRgOjEhp3",
        "outputId": "a9fa3253-7c5c-46a4-faf9-919aed476954"
      },
      "execution_count": null,
      "outputs": [
        {
          "output_type": "stream",
          "name": "stdout",
          "text": [
            " * sqlite:///projectdb.db\n",
            "1 rows affected.\n",
            "1 rows affected.\n",
            "1 rows affected.\n"
          ]
        },
        {
          "output_type": "execute_result",
          "data": {
            "text/plain": [
              "[]"
            ]
          },
          "metadata": {},
          "execution_count": 14
        }
      ]
    },
    {
      "cell_type": "code",
      "source": [
        "%%sql\n",
        "\n",
        "INSERT INTO Payment_Info([userID], [nameOnCard], [cardNum], [expiration], [csv]) VALUES (1, 'Nicolas Maitin', '763174697368790', '2025-03-01', 230);\n",
        "INSERT INTO Payment_Info([userID], [nameOnCard], [cardNum], [expiration], [csv]) VALUES (2, 'James Deen', '94761598769376', '2022-06-01', 635);\n",
        "INSERT INTO Payment_Info([userID], [nameOnCard], [cardNum], [expiration], [csv]) VALUES (3, 'Martin Scorsese', '97834615976976', '2027-11-01', 324);"
      ],
      "metadata": {
        "colab": {
          "base_uri": "https://localhost:8080/"
        },
        "id": "AzxwWNMpE5_z",
        "outputId": "99145bb3-3e94-4bca-fef2-074412411d52"
      },
      "execution_count": null,
      "outputs": [
        {
          "output_type": "stream",
          "name": "stdout",
          "text": [
            " * sqlite:///projectdb.db\n",
            "1 rows affected.\n",
            "1 rows affected.\n"
          ]
        },
        {
          "output_type": "execute_result",
          "data": {
            "text/plain": [
              "[]"
            ]
          },
          "metadata": {},
          "execution_count": 26
        }
      ]
    },
    {
      "cell_type": "code",
      "source": [
        "%%sql\n",
        "\n",
        "SELECT *\n",
        "FROM User u\n",
        "LEFT JOIN Payment_Info pi ON u.ID = pi.userID;"
      ],
      "metadata": {
        "colab": {
          "base_uri": "https://localhost:8080/",
          "height": 139
        },
        "id": "qM-pAMZUEiT1",
        "outputId": "5d8a04bd-8c4b-4644-9bf9-398a135e3151"
      },
      "execution_count": null,
      "outputs": [
        {
          "output_type": "stream",
          "name": "stdout",
          "text": [
            " * sqlite:///projectdb.db\n",
            "Done.\n"
          ]
        },
        {
          "output_type": "execute_result",
          "data": {
            "text/plain": [
              "[(1, 'Nicolas', 'Maitin', 'nicolasmaitinNM@gmail.com', 'h3lp3r2', '1995-07-25', 1, 1, 'Nicolas Maitin', '763174697368790', '2025-03-00', '230'),\n",
              " (2, 'James', 'Adams', 'jamesa@gmail.com', 'cr00k3d', '1972-10-14', 2, 2, 'James Deen', '94761598769376', '2022-06-00', '635'),\n",
              " (3, 'Boubou', 'Magassa', 'bmagassa@gmail.com', 'm3rst1l', '2000-02-08', 3, 3, 'Martin Scorsese', '97834615976976', '2027-11-00', '324')]"
            ],
            "text/html": [
              "<table>\n",
              "    <thead>\n",
              "        <tr>\n",
              "            <th>ID</th>\n",
              "            <th>firstName</th>\n",
              "            <th>lastName</th>\n",
              "            <th>email</th>\n",
              "            <th>password</th>\n",
              "            <th>birthdate</th>\n",
              "            <th>ID_1</th>\n",
              "            <th>userID</th>\n",
              "            <th>nameOnCard</th>\n",
              "            <th>cardNum</th>\n",
              "            <th>expiration</th>\n",
              "            <th>csv</th>\n",
              "        </tr>\n",
              "    </thead>\n",
              "    <tbody>\n",
              "        <tr>\n",
              "            <td>1</td>\n",
              "            <td>Nicolas</td>\n",
              "            <td>Maitin</td>\n",
              "            <td>nicolasmaitinNM@gmail.com</td>\n",
              "            <td>h3lp3r2</td>\n",
              "            <td>1995-07-25</td>\n",
              "            <td>1</td>\n",
              "            <td>1</td>\n",
              "            <td>Nicolas Maitin</td>\n",
              "            <td>763174697368790</td>\n",
              "            <td>2025-03-00</td>\n",
              "            <td>230</td>\n",
              "        </tr>\n",
              "        <tr>\n",
              "            <td>2</td>\n",
              "            <td>James</td>\n",
              "            <td>Adams</td>\n",
              "            <td>jamesa@gmail.com</td>\n",
              "            <td>cr00k3d</td>\n",
              "            <td>1972-10-14</td>\n",
              "            <td>2</td>\n",
              "            <td>2</td>\n",
              "            <td>James Deen</td>\n",
              "            <td>94761598769376</td>\n",
              "            <td>2022-06-00</td>\n",
              "            <td>635</td>\n",
              "        </tr>\n",
              "        <tr>\n",
              "            <td>3</td>\n",
              "            <td>Boubou</td>\n",
              "            <td>Magassa</td>\n",
              "            <td>bmagassa@gmail.com</td>\n",
              "            <td>m3rst1l</td>\n",
              "            <td>2000-02-08</td>\n",
              "            <td>3</td>\n",
              "            <td>3</td>\n",
              "            <td>Martin Scorsese</td>\n",
              "            <td>97834615976976</td>\n",
              "            <td>2027-11-00</td>\n",
              "            <td>324</td>\n",
              "        </tr>\n",
              "    </tbody>\n",
              "</table>"
            ]
          },
          "metadata": {},
          "execution_count": 27
        }
      ]
    },
    {
      "cell_type": "code",
      "source": [
        "%%sql\n",
        "\n",
        "SELECT *\n",
        "FROM User u\n",
        "LEFT JOIN Profile p ON u.ID = p.userID\n",
        "LEFT JOIN My_Stuff ms ON p.ID = ms.profileID\n",
        "LEFT JOIN Tv_Series ts ON ms.tvShowID = ts.ID\n",
        "LEFT JOIN Tv_Episode ep ON ms.episodeID = ep.ID\n",
        "LEFT JOIN Movie mv ON ms.movieID = mv.ID"
      ],
      "metadata": {
        "colab": {
          "base_uri": "https://localhost:8080/",
          "height": 211
        },
        "id": "mRNBL3yvFc18",
        "outputId": "4367f2a1-108e-4bb5-dffc-953cd683a486"
      },
      "execution_count": null,
      "outputs": [
        {
          "output_type": "stream",
          "name": "stdout",
          "text": [
            " * sqlite:///projectdb.db\n",
            "Done.\n"
          ]
        },
        {
          "output_type": "execute_result",
          "data": {
            "text/plain": [
              "[(1, 'Nicolas', 'Maitin', 'nicolasmaitinNM@gmail.com', 'h3lp3r2', '1995-07-25', 1, 1, 'Nic', 1, 1, 1, None, None, 1, '30 Rock', 7, 3, None, None, None, None, None, None, None, None, None, None, None, None),\n",
              " (2, 'James', 'Adams', 'jamesa@gmail.com', 'cr00k3d', '1972-10-14', 2, 2, 'James', 2, 2, None, 3, None, None, None, None, None, 3, 3, 3, 10, 'Celebration', 56.32, '2020-10-03', None, None, None, None, None),\n",
              " (3, 'Boubou', 'Magassa', 'bmagassa@gmail.com', 'm3rst1l', '2000-02-08', 3, 3, 'Bou', 3, 3, None, None, 2, None, None, None, None, None, None, None, None, None, None, None, 2, 'Parasite', 132.0, '2019-05-21', 1)]"
            ],
            "text/html": [
              "<table>\n",
              "    <thead>\n",
              "        <tr>\n",
              "            <th>ID</th>\n",
              "            <th>firstName</th>\n",
              "            <th>lastName</th>\n",
              "            <th>email</th>\n",
              "            <th>password</th>\n",
              "            <th>birthdate</th>\n",
              "            <th>ID_1</th>\n",
              "            <th>userID</th>\n",
              "            <th>name</th>\n",
              "            <th>myStuffID</th>\n",
              "            <th>profileID</th>\n",
              "            <th>tvShowID</th>\n",
              "            <th>episodeID</th>\n",
              "            <th>movieID</th>\n",
              "            <th>ID_2</th>\n",
              "            <th>title</th>\n",
              "            <th>numOfSeasons</th>\n",
              "            <th>genreID</th>\n",
              "            <th>ID_3</th>\n",
              "            <th>tvID</th>\n",
              "            <th>seasonID</th>\n",
              "            <th>episodeNum</th>\n",
              "            <th>title_1</th>\n",
              "            <th>runtime</th>\n",
              "            <th>airDate</th>\n",
              "            <th>ID_4</th>\n",
              "            <th>title_2</th>\n",
              "            <th>runtime_1</th>\n",
              "            <th>releaseDate</th>\n",
              "            <th>genreID_1</th>\n",
              "        </tr>\n",
              "    </thead>\n",
              "    <tbody>\n",
              "        <tr>\n",
              "            <td>1</td>\n",
              "            <td>Nicolas</td>\n",
              "            <td>Maitin</td>\n",
              "            <td>nicolasmaitinNM@gmail.com</td>\n",
              "            <td>h3lp3r2</td>\n",
              "            <td>1995-07-25</td>\n",
              "            <td>1</td>\n",
              "            <td>1</td>\n",
              "            <td>Nic</td>\n",
              "            <td>1</td>\n",
              "            <td>1</td>\n",
              "            <td>1</td>\n",
              "            <td>None</td>\n",
              "            <td>None</td>\n",
              "            <td>1</td>\n",
              "            <td>30 Rock</td>\n",
              "            <td>7</td>\n",
              "            <td>3</td>\n",
              "            <td>None</td>\n",
              "            <td>None</td>\n",
              "            <td>None</td>\n",
              "            <td>None</td>\n",
              "            <td>None</td>\n",
              "            <td>None</td>\n",
              "            <td>None</td>\n",
              "            <td>None</td>\n",
              "            <td>None</td>\n",
              "            <td>None</td>\n",
              "            <td>None</td>\n",
              "            <td>None</td>\n",
              "        </tr>\n",
              "        <tr>\n",
              "            <td>2</td>\n",
              "            <td>James</td>\n",
              "            <td>Adams</td>\n",
              "            <td>jamesa@gmail.com</td>\n",
              "            <td>cr00k3d</td>\n",
              "            <td>1972-10-14</td>\n",
              "            <td>2</td>\n",
              "            <td>2</td>\n",
              "            <td>James</td>\n",
              "            <td>2</td>\n",
              "            <td>2</td>\n",
              "            <td>None</td>\n",
              "            <td>3</td>\n",
              "            <td>None</td>\n",
              "            <td>None</td>\n",
              "            <td>None</td>\n",
              "            <td>None</td>\n",
              "            <td>None</td>\n",
              "            <td>3</td>\n",
              "            <td>3</td>\n",
              "            <td>3</td>\n",
              "            <td>10</td>\n",
              "            <td>Celebration</td>\n",
              "            <td>56.32</td>\n",
              "            <td>2020-10-03</td>\n",
              "            <td>None</td>\n",
              "            <td>None</td>\n",
              "            <td>None</td>\n",
              "            <td>None</td>\n",
              "            <td>None</td>\n",
              "        </tr>\n",
              "        <tr>\n",
              "            <td>3</td>\n",
              "            <td>Boubou</td>\n",
              "            <td>Magassa</td>\n",
              "            <td>bmagassa@gmail.com</td>\n",
              "            <td>m3rst1l</td>\n",
              "            <td>2000-02-08</td>\n",
              "            <td>3</td>\n",
              "            <td>3</td>\n",
              "            <td>Bou</td>\n",
              "            <td>3</td>\n",
              "            <td>3</td>\n",
              "            <td>None</td>\n",
              "            <td>None</td>\n",
              "            <td>2</td>\n",
              "            <td>None</td>\n",
              "            <td>None</td>\n",
              "            <td>None</td>\n",
              "            <td>None</td>\n",
              "            <td>None</td>\n",
              "            <td>None</td>\n",
              "            <td>None</td>\n",
              "            <td>None</td>\n",
              "            <td>None</td>\n",
              "            <td>None</td>\n",
              "            <td>None</td>\n",
              "            <td>2</td>\n",
              "            <td>Parasite</td>\n",
              "            <td>132.0</td>\n",
              "            <td>2019-05-21</td>\n",
              "            <td>1</td>\n",
              "        </tr>\n",
              "    </tbody>\n",
              "</table>"
            ]
          },
          "metadata": {},
          "execution_count": 19
        }
      ]
    },
    {
      "cell_type": "code",
      "source": [
        "%%sql\n",
        "\n",
        "SELECT *\n",
        "FROM Tv_Series ser\n",
        "LEFT JOIN Tv_Season sea ON ser.ID = sea.tvID\n",
        "LEFT JOIN Tv_Episode ep ON sea.ID = ep.seasonID"
      ],
      "metadata": {
        "colab": {
          "base_uri": "https://localhost:8080/",
          "height": 139
        },
        "id": "WoqWehElFm6k",
        "outputId": "d3889363-1fb9-4467-c93a-73221253b2d3"
      },
      "execution_count": null,
      "outputs": [
        {
          "output_type": "stream",
          "name": "stdout",
          "text": [
            " * sqlite:///projectdb.db\n",
            "Done.\n"
          ]
        },
        {
          "output_type": "execute_result",
          "data": {
            "text/plain": [
              "[(1, '30 Rock', 7, 3, 1, 1, 4, 22, 1, 1, 1, 5, 'Jack the Writer', 22.56, '2012-03-15'),\n",
              " (2, '24', 8, 2, 2, 2, 5, 24, 2, 2, 2, 9, '9:00am-10:00am', 49.2, '2006-3-25'),\n",
              " (3, 'Snowfall', 5, 1, 3, 3, 2, 10, 3, 3, 3, 10, 'Celebration', 56.32, '2020-10-03')]"
            ],
            "text/html": [
              "<table>\n",
              "    <thead>\n",
              "        <tr>\n",
              "            <th>ID</th>\n",
              "            <th>title</th>\n",
              "            <th>numOfSeasons</th>\n",
              "            <th>genreID</th>\n",
              "            <th>ID_1</th>\n",
              "            <th>tvID</th>\n",
              "            <th>seasonNum</th>\n",
              "            <th>numOfEpisodes</th>\n",
              "            <th>ID_2</th>\n",
              "            <th>tvID_1</th>\n",
              "            <th>seasonID</th>\n",
              "            <th>episodeNum</th>\n",
              "            <th>title_1</th>\n",
              "            <th>runtime</th>\n",
              "            <th>airDate</th>\n",
              "        </tr>\n",
              "    </thead>\n",
              "    <tbody>\n",
              "        <tr>\n",
              "            <td>1</td>\n",
              "            <td>30 Rock</td>\n",
              "            <td>7</td>\n",
              "            <td>3</td>\n",
              "            <td>1</td>\n",
              "            <td>1</td>\n",
              "            <td>4</td>\n",
              "            <td>22</td>\n",
              "            <td>1</td>\n",
              "            <td>1</td>\n",
              "            <td>1</td>\n",
              "            <td>5</td>\n",
              "            <td>Jack the Writer</td>\n",
              "            <td>22.56</td>\n",
              "            <td>2012-03-15</td>\n",
              "        </tr>\n",
              "        <tr>\n",
              "            <td>2</td>\n",
              "            <td>24</td>\n",
              "            <td>8</td>\n",
              "            <td>2</td>\n",
              "            <td>2</td>\n",
              "            <td>2</td>\n",
              "            <td>5</td>\n",
              "            <td>24</td>\n",
              "            <td>2</td>\n",
              "            <td>2</td>\n",
              "            <td>2</td>\n",
              "            <td>9</td>\n",
              "            <td>9:00am-10:00am</td>\n",
              "            <td>49.2</td>\n",
              "            <td>2006-3-25</td>\n",
              "        </tr>\n",
              "        <tr>\n",
              "            <td>3</td>\n",
              "            <td>Snowfall</td>\n",
              "            <td>5</td>\n",
              "            <td>1</td>\n",
              "            <td>3</td>\n",
              "            <td>3</td>\n",
              "            <td>2</td>\n",
              "            <td>10</td>\n",
              "            <td>3</td>\n",
              "            <td>3</td>\n",
              "            <td>3</td>\n",
              "            <td>10</td>\n",
              "            <td>Celebration</td>\n",
              "            <td>56.32</td>\n",
              "            <td>2020-10-03</td>\n",
              "        </tr>\n",
              "    </tbody>\n",
              "</table>"
            ]
          },
          "metadata": {},
          "execution_count": 20
        }
      ]
    },
    {
      "cell_type": "code",
      "source": [
        "%%sql\n",
        "\n",
        "SELECT *\n",
        "FROM Genre g\n",
        "LEFT JOIN Tv_Series ts ON g.ID = ts.genreID\n",
        "LEFT JOIN Movie mv ON g.ID = mv.genreID"
      ],
      "metadata": {
        "colab": {
          "base_uri": "https://localhost:8080/",
          "height": 139
        },
        "id": "PoYTXeoPFqor",
        "outputId": "979ef150-cbec-4d98-fb1a-ac37f8e91273"
      },
      "execution_count": null,
      "outputs": [
        {
          "output_type": "stream",
          "name": "stdout",
          "text": [
            " * sqlite:///projectdb.db\n",
            "Done.\n"
          ]
        },
        {
          "output_type": "execute_result",
          "data": {
            "text/plain": [
              "[(1, 'Drama', 3, 'Snowfall', 5, 1, 2, 'Parasite', 132.0, '2019-05-21', 1),\n",
              " (2, 'Action', 2, '24', 8, 2, 1, 'The One', 87.0, '2001-11-02', 2),\n",
              " (3, 'Comedy', 1, '30 Rock', 7, 3, 3, 'The 40 Year Old Virgin', 116.0, '2005-8-19', 3)]"
            ],
            "text/html": [
              "<table>\n",
              "    <thead>\n",
              "        <tr>\n",
              "            <th>ID</th>\n",
              "            <th>genre</th>\n",
              "            <th>ID_1</th>\n",
              "            <th>title</th>\n",
              "            <th>numOfSeasons</th>\n",
              "            <th>genreID</th>\n",
              "            <th>ID_2</th>\n",
              "            <th>title_1</th>\n",
              "            <th>runtime</th>\n",
              "            <th>releaseDate</th>\n",
              "            <th>genreID_1</th>\n",
              "        </tr>\n",
              "    </thead>\n",
              "    <tbody>\n",
              "        <tr>\n",
              "            <td>1</td>\n",
              "            <td>Drama</td>\n",
              "            <td>3</td>\n",
              "            <td>Snowfall</td>\n",
              "            <td>5</td>\n",
              "            <td>1</td>\n",
              "            <td>2</td>\n",
              "            <td>Parasite</td>\n",
              "            <td>132.0</td>\n",
              "            <td>2019-05-21</td>\n",
              "            <td>1</td>\n",
              "        </tr>\n",
              "        <tr>\n",
              "            <td>2</td>\n",
              "            <td>Action</td>\n",
              "            <td>2</td>\n",
              "            <td>24</td>\n",
              "            <td>8</td>\n",
              "            <td>2</td>\n",
              "            <td>1</td>\n",
              "            <td>The One</td>\n",
              "            <td>87.0</td>\n",
              "            <td>2001-11-02</td>\n",
              "            <td>2</td>\n",
              "        </tr>\n",
              "        <tr>\n",
              "            <td>3</td>\n",
              "            <td>Comedy</td>\n",
              "            <td>1</td>\n",
              "            <td>30 Rock</td>\n",
              "            <td>7</td>\n",
              "            <td>3</td>\n",
              "            <td>3</td>\n",
              "            <td>The 40 Year Old Virgin</td>\n",
              "            <td>116.0</td>\n",
              "            <td>2005-8-19</td>\n",
              "            <td>3</td>\n",
              "        </tr>\n",
              "    </tbody>\n",
              "</table>"
            ]
          },
          "metadata": {},
          "execution_count": 21
        }
      ]
    },
    {
      "cell_type": "code",
      "source": [
        "%%sql\n",
        "\n",
        "SELECT *\n",
        "FROM Genre g\n",
        "LEFT JOIN Tv_Series ts ON g.ID = ts.genreID\n",
        "LEFT JOIN Movie mv ON g.ID = mv.genreID\n",
        "WHERE g.genre IS 'Drama'"
      ],
      "metadata": {
        "colab": {
          "base_uri": "https://localhost:8080/",
          "height": 96
        },
        "id": "K8CgxIIIFvss",
        "outputId": "f9df9c47-bda7-4b0c-99fd-d76362bd08d0"
      },
      "execution_count": null,
      "outputs": [
        {
          "output_type": "stream",
          "name": "stdout",
          "text": [
            " * sqlite:///projectdb.db\n",
            "Done.\n"
          ]
        },
        {
          "output_type": "execute_result",
          "data": {
            "text/plain": [
              "[(1, 'Drama', 3, 'Snowfall', 5, 1, 2, 'Parasite', 132.0, '2019-05-21', 1)]"
            ],
            "text/html": [
              "<table>\n",
              "    <thead>\n",
              "        <tr>\n",
              "            <th>ID</th>\n",
              "            <th>genre</th>\n",
              "            <th>ID_1</th>\n",
              "            <th>title</th>\n",
              "            <th>numOfSeasons</th>\n",
              "            <th>genreID</th>\n",
              "            <th>ID_2</th>\n",
              "            <th>title_1</th>\n",
              "            <th>runtime</th>\n",
              "            <th>releaseDate</th>\n",
              "            <th>genreID_1</th>\n",
              "        </tr>\n",
              "    </thead>\n",
              "    <tbody>\n",
              "        <tr>\n",
              "            <td>1</td>\n",
              "            <td>Drama</td>\n",
              "            <td>3</td>\n",
              "            <td>Snowfall</td>\n",
              "            <td>5</td>\n",
              "            <td>1</td>\n",
              "            <td>2</td>\n",
              "            <td>Parasite</td>\n",
              "            <td>132.0</td>\n",
              "            <td>2019-05-21</td>\n",
              "            <td>1</td>\n",
              "        </tr>\n",
              "    </tbody>\n",
              "</table>"
            ]
          },
          "metadata": {},
          "execution_count": 22
        }
      ]
    },
    {
      "cell_type": "code",
      "source": [
        "%%sql\n",
        "\n",
        "SELECT *\n",
        "FROM User u\n",
        "LEFT JOIN Profile p ON u.ID = p.userID"
      ],
      "metadata": {
        "colab": {
          "base_uri": "https://localhost:8080/",
          "height": 139
        },
        "id": "4wh6oSIcFy8u",
        "outputId": "f154b006-9792-452c-87cd-5d41131e33cf"
      },
      "execution_count": null,
      "outputs": [
        {
          "output_type": "stream",
          "name": "stdout",
          "text": [
            " * sqlite:///projectdb.db\n",
            "Done.\n"
          ]
        },
        {
          "output_type": "execute_result",
          "data": {
            "text/plain": [
              "[(1, 'Nicolas', 'Maitin', 'nicolasmaitinNM@gmail.com', 'h3lp3r2', '1995-07-25', 1, 1, 'Nic'),\n",
              " (2, 'James', 'Adams', 'jamesa@gmail.com', 'cr00k3d', '1972-10-14', 2, 2, 'James'),\n",
              " (3, 'Boubou', 'Magassa', 'bmagassa@gmail.com', 'm3rst1l', '2000-02-08', 3, 3, 'Bou')]"
            ],
            "text/html": [
              "<table>\n",
              "    <thead>\n",
              "        <tr>\n",
              "            <th>ID</th>\n",
              "            <th>firstName</th>\n",
              "            <th>lastName</th>\n",
              "            <th>email</th>\n",
              "            <th>password</th>\n",
              "            <th>birthdate</th>\n",
              "            <th>ID_1</th>\n",
              "            <th>userID</th>\n",
              "            <th>name</th>\n",
              "        </tr>\n",
              "    </thead>\n",
              "    <tbody>\n",
              "        <tr>\n",
              "            <td>1</td>\n",
              "            <td>Nicolas</td>\n",
              "            <td>Maitin</td>\n",
              "            <td>nicolasmaitinNM@gmail.com</td>\n",
              "            <td>h3lp3r2</td>\n",
              "            <td>1995-07-25</td>\n",
              "            <td>1</td>\n",
              "            <td>1</td>\n",
              "            <td>Nic</td>\n",
              "        </tr>\n",
              "        <tr>\n",
              "            <td>2</td>\n",
              "            <td>James</td>\n",
              "            <td>Adams</td>\n",
              "            <td>jamesa@gmail.com</td>\n",
              "            <td>cr00k3d</td>\n",
              "            <td>1972-10-14</td>\n",
              "            <td>2</td>\n",
              "            <td>2</td>\n",
              "            <td>James</td>\n",
              "        </tr>\n",
              "        <tr>\n",
              "            <td>3</td>\n",
              "            <td>Boubou</td>\n",
              "            <td>Magassa</td>\n",
              "            <td>bmagassa@gmail.com</td>\n",
              "            <td>m3rst1l</td>\n",
              "            <td>2000-02-08</td>\n",
              "            <td>3</td>\n",
              "            <td>3</td>\n",
              "            <td>Bou</td>\n",
              "        </tr>\n",
              "    </tbody>\n",
              "</table>"
            ]
          },
          "metadata": {},
          "execution_count": 23
        }
      ]
    },
    {
      "cell_type": "code",
      "source": [
        "%%sql\n",
        "\n",
        "UPDATE Tv_Season\n",
        "SET numOfEpisodes = 11\n",
        "WHERE id = 3;"
      ],
      "metadata": {
        "colab": {
          "base_uri": "https://localhost:8080/"
        },
        "id": "buxrzMCeF1_M",
        "outputId": "074a5c6b-a424-4c4f-bbca-33d0b4483fa1"
      },
      "execution_count": null,
      "outputs": [
        {
          "output_type": "stream",
          "name": "stdout",
          "text": [
            " * sqlite:///projectdb.db\n",
            "1 rows affected.\n"
          ]
        },
        {
          "output_type": "execute_result",
          "data": {
            "text/plain": [
              "[]"
            ]
          },
          "metadata": {},
          "execution_count": 24
        }
      ]
    },
    {
      "cell_type": "code",
      "source": [
        "%%sql\n",
        "\n",
        "SELECT *\n",
        "FROM Tv_Season;"
      ],
      "metadata": {
        "colab": {
          "base_uri": "https://localhost:8080/",
          "height": 139
        },
        "id": "MMF8CDvPGAdl",
        "outputId": "613d7a2c-abca-43da-dea8-2cb4c2f1964e"
      },
      "execution_count": null,
      "outputs": [
        {
          "output_type": "stream",
          "name": "stdout",
          "text": [
            " * sqlite:///projectdb.db\n",
            "Done.\n"
          ]
        },
        {
          "output_type": "execute_result",
          "data": {
            "text/plain": [
              "[(1, 1, 4, 22), (2, 2, 5, 24), (3, 3, 2, 11)]"
            ],
            "text/html": [
              "<table>\n",
              "    <thead>\n",
              "        <tr>\n",
              "            <th>ID</th>\n",
              "            <th>tvID</th>\n",
              "            <th>seasonNum</th>\n",
              "            <th>numOfEpisodes</th>\n",
              "        </tr>\n",
              "    </thead>\n",
              "    <tbody>\n",
              "        <tr>\n",
              "            <td>1</td>\n",
              "            <td>1</td>\n",
              "            <td>4</td>\n",
              "            <td>22</td>\n",
              "        </tr>\n",
              "        <tr>\n",
              "            <td>2</td>\n",
              "            <td>2</td>\n",
              "            <td>5</td>\n",
              "            <td>24</td>\n",
              "        </tr>\n",
              "        <tr>\n",
              "            <td>3</td>\n",
              "            <td>3</td>\n",
              "            <td>2</td>\n",
              "            <td>11</td>\n",
              "        </tr>\n",
              "    </tbody>\n",
              "</table>"
            ]
          },
          "metadata": {},
          "execution_count": 25
        }
      ]
    }
  ]
}